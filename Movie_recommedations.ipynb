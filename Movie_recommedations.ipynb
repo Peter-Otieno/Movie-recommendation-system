{
 "cells": [
  {
   "cell_type": "markdown",
   "metadata": {},
   "source": [
    "## BUILDING A MOVIE RECOMMENDATION SYSTEM \n",
    "\n",
    "Group Members:\n",
    "\n",
    "1. Mwangi Wambugu\n",
    "\n",
    "2. Grace Mutuku\n",
    "\n",
    "3. Rony Muriithi \n",
    "\n",
    "4. Esther Nyawera\n",
    "\n",
    "5. John Kioko\n",
    "\n",
    "6. Heri Kimotho\n",
    "\n",
    "7. Peter Otieno\n",
    "\n",
    "\n",
    "### INTRODUCTION\n",
    "\n",
    "#### MOVIE INDUSTRY OVERVIEW\n",
    "The film industry, a global juggernaut, annually amasses billions in revenue. As per Statista, in 2019 alone, the global box office accumulated a staggering $42.5 billion.\n",
    "Film production is the creative hub where movies, TV shows, and other visual content come to life, involving stakeholders such as studios, independent producers, and streaming platforms. \n",
    "The distribution segment markets and transports these creations to theaters, streaming services, and other outlets. Exhibition refers to the screening of movies and TV shows in cinemas\n",
    "Movies possess a universal charm, forging connections among individuals from diverse backgrounds. Despite this collective appeal, our personal cinematic tastes exhibit uniqueness, spanning various genres such as thrillers, romance, or sci-fi, and often centering around preferred actors and directors.\n",
    "\n",
    "#### STREAMING SERVICES INDUSTRY OVERVIEW\n",
    "Streaming services deliver digital content, including movies, TV shows, documentaries, and original productions, directly to users over the internet. Streaming services have expanded globally, making content accessible to audiences worldwide. \n",
    "Streaming platforms often provide personalized recommendations based on user preferences and viewing history. \n",
    "Examples of widely known streaming platforms include:\n",
    "1. Netflix\n",
    "2. Hulu\n",
    "3.Amazon Prime Video\n",
    "4.Showmax\n",
    "5.Disney+\n",
    "\n",
    "### BUSINESS PROBLEM\n",
    "\n",
    "In the world of streaming services, with the rise in users, competition among streaming services is at an all time high. With a high demand in content, the streaming services need to keep up with growing tastes in the consumer base and they need to push content that is relevant and up to their consumers standards.\n",
    "\n",
    "Filamu Streaming Services aims to stay competitive in this industry by utilizing the data gotten from GroupLens research lab at the University of Minnesota to build a better and more advanced recommendation system.\n",
    "\n",
    "Crafting a universal formula for movies that would captivate every individual proves challenging; however, through meticulous analysis of user data and movie-related data,valuable insights are extracted so as to provide users with movie recommendations that would best suit their preferences.\n",
    "\n",
    "\n",
    "### OBJECTIVES\n",
    "\n",
    "1. To analyse the data and find the most frequently watched movies.\n",
    "2. To analyse the data and find the most frequently watched genres based on the data provided. \n",
    "\n",
    "\n",
    "\n",
    "### OVERVIEW\n",
    "1. Importing Libraries and Loading Data\n",
    "2. Data Understanding\n",
    "3. Exploratory Data Analysis\n",
    "4. Modeling\n",
    "\n",
    "\n"
   ]
  },
  {
   "cell_type": "markdown",
   "metadata": {},
   "source": [
    "### 1. IMPORTING LIBRARIES AND LOADING DATA"
   ]
  },
  {
   "cell_type": "code",
   "execution_count": 1,
   "metadata": {
    "ExecuteTime": {
     "end_time": "2024-01-13T17:43:42.982848Z",
     "start_time": "2024-01-13T17:43:42.879849400Z"
    }
   },
   "outputs": [],
   "source": [
    "# Importing the relevant libraries\n",
    "import pandas as pd\n",
    "import seaborn as sns\n",
    "import matplotlib.pyplot as plt\n",
    "%matplotlib inline\n",
    "import numpy as np\n",
    "from surprise import Reader, Dataset\n",
    "from surprise import accuracy\n",
    "from surprise.model_selection import cross_validate, train_test_split\n",
    "from surprise.prediction_algorithms import SVD\n",
    "from surprise.prediction_algorithms import KNNWithMeans, KNNBasic, KNNBaseline\n",
    "from surprise.model_selection import GridSearchCV\n",
    "from sklearn.metrics.pairwise import cosine_similarity\n",
    "from IPython.display import HTML\n",
    "import warnings\n",
    "warnings.filterwarnings('ignore')"
   ]
  },
  {
   "cell_type": "code",
   "execution_count": 2,
   "metadata": {
    "scrolled": true
   },
   "outputs": [
    {
     "data": {
      "text/html": [
       "<div>\n",
       "<style scoped>\n",
       "    .dataframe tbody tr th:only-of-type {\n",
       "        vertical-align: middle;\n",
       "    }\n",
       "\n",
       "    .dataframe tbody tr th {\n",
       "        vertical-align: top;\n",
       "    }\n",
       "\n",
       "    .dataframe thead th {\n",
       "        text-align: right;\n",
       "    }\n",
       "</style>\n",
       "<table border=\"1\" class=\"dataframe\">\n",
       "  <thead>\n",
       "    <tr style=\"text-align: right;\">\n",
       "      <th></th>\n",
       "      <th>movieId</th>\n",
       "      <th>title</th>\n",
       "      <th>genres</th>\n",
       "      <th>userId</th>\n",
       "      <th>rating</th>\n",
       "      <th>timestamp</th>\n",
       "    </tr>\n",
       "  </thead>\n",
       "  <tbody>\n",
       "    <tr>\n",
       "      <th>0</th>\n",
       "      <td>1</td>\n",
       "      <td>Toy Story (1995)</td>\n",
       "      <td>Adventure|Animation|Children|Comedy|Fantasy</td>\n",
       "      <td>1</td>\n",
       "      <td>4.0</td>\n",
       "      <td>964982703</td>\n",
       "    </tr>\n",
       "    <tr>\n",
       "      <th>1</th>\n",
       "      <td>1</td>\n",
       "      <td>Toy Story (1995)</td>\n",
       "      <td>Adventure|Animation|Children|Comedy|Fantasy</td>\n",
       "      <td>5</td>\n",
       "      <td>4.0</td>\n",
       "      <td>847434962</td>\n",
       "    </tr>\n",
       "    <tr>\n",
       "      <th>2</th>\n",
       "      <td>1</td>\n",
       "      <td>Toy Story (1995)</td>\n",
       "      <td>Adventure|Animation|Children|Comedy|Fantasy</td>\n",
       "      <td>7</td>\n",
       "      <td>4.5</td>\n",
       "      <td>1106635946</td>\n",
       "    </tr>\n",
       "    <tr>\n",
       "      <th>3</th>\n",
       "      <td>1</td>\n",
       "      <td>Toy Story (1995)</td>\n",
       "      <td>Adventure|Animation|Children|Comedy|Fantasy</td>\n",
       "      <td>15</td>\n",
       "      <td>2.5</td>\n",
       "      <td>1510577970</td>\n",
       "    </tr>\n",
       "    <tr>\n",
       "      <th>4</th>\n",
       "      <td>1</td>\n",
       "      <td>Toy Story (1995)</td>\n",
       "      <td>Adventure|Animation|Children|Comedy|Fantasy</td>\n",
       "      <td>17</td>\n",
       "      <td>4.5</td>\n",
       "      <td>1305696483</td>\n",
       "    </tr>\n",
       "    <tr>\n",
       "      <th>...</th>\n",
       "      <td>...</td>\n",
       "      <td>...</td>\n",
       "      <td>...</td>\n",
       "      <td>...</td>\n",
       "      <td>...</td>\n",
       "      <td>...</td>\n",
       "    </tr>\n",
       "    <tr>\n",
       "      <th>100831</th>\n",
       "      <td>193581</td>\n",
       "      <td>Black Butler: Book of the Atlantic (2017)</td>\n",
       "      <td>Action|Animation|Comedy|Fantasy</td>\n",
       "      <td>184</td>\n",
       "      <td>4.0</td>\n",
       "      <td>1537109082</td>\n",
       "    </tr>\n",
       "    <tr>\n",
       "      <th>100832</th>\n",
       "      <td>193583</td>\n",
       "      <td>No Game No Life: Zero (2017)</td>\n",
       "      <td>Animation|Comedy|Fantasy</td>\n",
       "      <td>184</td>\n",
       "      <td>3.5</td>\n",
       "      <td>1537109545</td>\n",
       "    </tr>\n",
       "    <tr>\n",
       "      <th>100833</th>\n",
       "      <td>193585</td>\n",
       "      <td>Flint (2017)</td>\n",
       "      <td>Drama</td>\n",
       "      <td>184</td>\n",
       "      <td>3.5</td>\n",
       "      <td>1537109805</td>\n",
       "    </tr>\n",
       "    <tr>\n",
       "      <th>100834</th>\n",
       "      <td>193587</td>\n",
       "      <td>Bungo Stray Dogs: Dead Apple (2018)</td>\n",
       "      <td>Action|Animation</td>\n",
       "      <td>184</td>\n",
       "      <td>3.5</td>\n",
       "      <td>1537110021</td>\n",
       "    </tr>\n",
       "    <tr>\n",
       "      <th>100835</th>\n",
       "      <td>193609</td>\n",
       "      <td>Andrew Dice Clay: Dice Rules (1991)</td>\n",
       "      <td>Comedy</td>\n",
       "      <td>331</td>\n",
       "      <td>4.0</td>\n",
       "      <td>1537157606</td>\n",
       "    </tr>\n",
       "  </tbody>\n",
       "</table>\n",
       "<p>100836 rows × 6 columns</p>\n",
       "</div>"
      ],
      "text/plain": [
       "        movieId                                      title  \\\n",
       "0             1                           Toy Story (1995)   \n",
       "1             1                           Toy Story (1995)   \n",
       "2             1                           Toy Story (1995)   \n",
       "3             1                           Toy Story (1995)   \n",
       "4             1                           Toy Story (1995)   \n",
       "...         ...                                        ...   \n",
       "100831   193581  Black Butler: Book of the Atlantic (2017)   \n",
       "100832   193583               No Game No Life: Zero (2017)   \n",
       "100833   193585                               Flint (2017)   \n",
       "100834   193587        Bungo Stray Dogs: Dead Apple (2018)   \n",
       "100835   193609        Andrew Dice Clay: Dice Rules (1991)   \n",
       "\n",
       "                                             genres  userId  rating  \\\n",
       "0       Adventure|Animation|Children|Comedy|Fantasy       1     4.0   \n",
       "1       Adventure|Animation|Children|Comedy|Fantasy       5     4.0   \n",
       "2       Adventure|Animation|Children|Comedy|Fantasy       7     4.5   \n",
       "3       Adventure|Animation|Children|Comedy|Fantasy      15     2.5   \n",
       "4       Adventure|Animation|Children|Comedy|Fantasy      17     4.5   \n",
       "...                                             ...     ...     ...   \n",
       "100831              Action|Animation|Comedy|Fantasy     184     4.0   \n",
       "100832                     Animation|Comedy|Fantasy     184     3.5   \n",
       "100833                                        Drama     184     3.5   \n",
       "100834                             Action|Animation     184     3.5   \n",
       "100835                                       Comedy     331     4.0   \n",
       "\n",
       "         timestamp  \n",
       "0        964982703  \n",
       "1        847434962  \n",
       "2       1106635946  \n",
       "3       1510577970  \n",
       "4       1305696483  \n",
       "...            ...  \n",
       "100831  1537109082  \n",
       "100832  1537109545  \n",
       "100833  1537109805  \n",
       "100834  1537110021  \n",
       "100835  1537157606  \n",
       "\n",
       "[100836 rows x 6 columns]"
      ]
     },
     "execution_count": 2,
     "metadata": {},
     "output_type": "execute_result"
    }
   ],
   "source": [
    "def load_and_join_csv(file_path_1, file_path_2):\n",
    "    # Load CSV files into Pandas DataFrames\n",
    "    movies = pd.read_csv(file_path_1)\n",
    "    ratings = pd.read_csv(file_path_2)\n",
    "        \n",
    "    # Perform inner joins to combine the datasets based on common column movieId\n",
    "    movies_ratings_df = pd.merge(movies, ratings, on='movieId', how='inner')\n",
    "      \n",
    "    return movies_ratings_df\n",
    "\n",
    "# Replace  with your actual file paths\n",
    "movie_rating_df = load_and_join_csv(\"ml-latest-small/movies.csv\", \"ml-latest-small/ratings.csv\")\n",
    "\n",
    "# Display the resulting dataset\n",
    "movie_rating_df"
   ]
  },
  {
   "cell_type": "markdown",
   "metadata": {},
   "source": [
    "This function(above) is designed to load two CSV files containing movie information and ratings, respectively, into Pandas DataFrames. It then performs an inner join on the 'movieId' column to combine the datasets into a single DataFrame, merging the movie information with corresponding ratings. The resulting DataFrame, `movies_ratings_df`, is returned."
   ]
  },
  {
   "cell_type": "markdown",
   "metadata": {},
   "source": [
    "### 2. DATA UNDERSTANDING AND EDA\n",
    "\n",
    "The dataset contains 6 columns and 100,836 entries. The 6 columns are `movieId`, `title`, `genres`, `userId`, `rating` and `timestamp`\n",
    "\n",
    "- **movieId**: an identifier for movies used by <https://movielens.org>.\n",
    "- **title**: name of the movie imported from <https://www.themoviedb.org/>. Includes year of release.\n",
    "- **genres**: Different categories or types of movies. Each movie can be associated with one or more genres, indicating the main themes or styles of the film.\n",
    "- **userId**: represents the unique identifier for a user in the dataset.\n",
    "- **rating**: a numerical value, on a scale of 0.5-5, assigned by a user to express their preference or opinion about a particular movie.\n",
    "- **timestamp**: represents the date and time when a user interaction with a movie took place.\n",
    "\n",
    "\n",
    "A brief statistical summary below of the numerical data provides insight into the distribution of the data by providing an overview of its central tendency and spread. In data ananlsis we look at the different components that make up the dataset. The insight will greatly inform the modelling. For our analysis we will start by looking for information of the structure and distribution of the dataset"
   ]
  },
  {
   "cell_type": "code",
   "execution_count": 3,
   "metadata": {},
   "outputs": [
    {
     "name": "stdout",
     "output_type": "stream",
     "text": [
      "----------------------------Details about the data----------------------------\n",
      " \n",
      "----------------------------Shape of the dataset---------------------------- \n",
      "The dataset is a DataFrame with 100836 rows and 6 columns\n",
      "\n",
      "----------------------------Columns of the dataset---------------------------- \n",
      "['movieId', 'title', 'genres', 'userId', 'rating', 'timestamp']\n"
     ]
    },
    {
     "data": {
      "text/plain": [
       "Index(['movieId', 'title', 'genres', 'userId', 'rating', 'timestamp'], dtype='object')"
      ]
     },
     "metadata": {},
     "output_type": "display_data"
    },
    {
     "name": "stdout",
     "output_type": "stream",
     "text": [
      "---------------------------- First 5 records of the dataset---------------------------- \n"
     ]
    },
    {
     "data": {
      "text/html": [
       "<div>\n",
       "<style scoped>\n",
       "    .dataframe tbody tr th:only-of-type {\n",
       "        vertical-align: middle;\n",
       "    }\n",
       "\n",
       "    .dataframe tbody tr th {\n",
       "        vertical-align: top;\n",
       "    }\n",
       "\n",
       "    .dataframe thead th {\n",
       "        text-align: right;\n",
       "    }\n",
       "</style>\n",
       "<table border=\"1\" class=\"dataframe\">\n",
       "  <thead>\n",
       "    <tr style=\"text-align: right;\">\n",
       "      <th></th>\n",
       "      <th>movieId</th>\n",
       "      <th>title</th>\n",
       "      <th>genres</th>\n",
       "      <th>userId</th>\n",
       "      <th>rating</th>\n",
       "      <th>timestamp</th>\n",
       "    </tr>\n",
       "  </thead>\n",
       "  <tbody>\n",
       "    <tr>\n",
       "      <th>0</th>\n",
       "      <td>1</td>\n",
       "      <td>Toy Story (1995)</td>\n",
       "      <td>Adventure|Animation|Children|Comedy|Fantasy</td>\n",
       "      <td>1</td>\n",
       "      <td>4.0</td>\n",
       "      <td>964982703</td>\n",
       "    </tr>\n",
       "    <tr>\n",
       "      <th>1</th>\n",
       "      <td>1</td>\n",
       "      <td>Toy Story (1995)</td>\n",
       "      <td>Adventure|Animation|Children|Comedy|Fantasy</td>\n",
       "      <td>5</td>\n",
       "      <td>4.0</td>\n",
       "      <td>847434962</td>\n",
       "    </tr>\n",
       "    <tr>\n",
       "      <th>2</th>\n",
       "      <td>1</td>\n",
       "      <td>Toy Story (1995)</td>\n",
       "      <td>Adventure|Animation|Children|Comedy|Fantasy</td>\n",
       "      <td>7</td>\n",
       "      <td>4.5</td>\n",
       "      <td>1106635946</td>\n",
       "    </tr>\n",
       "    <tr>\n",
       "      <th>3</th>\n",
       "      <td>1</td>\n",
       "      <td>Toy Story (1995)</td>\n",
       "      <td>Adventure|Animation|Children|Comedy|Fantasy</td>\n",
       "      <td>15</td>\n",
       "      <td>2.5</td>\n",
       "      <td>1510577970</td>\n",
       "    </tr>\n",
       "    <tr>\n",
       "      <th>4</th>\n",
       "      <td>1</td>\n",
       "      <td>Toy Story (1995)</td>\n",
       "      <td>Adventure|Animation|Children|Comedy|Fantasy</td>\n",
       "      <td>17</td>\n",
       "      <td>4.5</td>\n",
       "      <td>1305696483</td>\n",
       "    </tr>\n",
       "  </tbody>\n",
       "</table>\n",
       "</div>"
      ],
      "text/plain": [
       "   movieId             title                                       genres  \\\n",
       "0        1  Toy Story (1995)  Adventure|Animation|Children|Comedy|Fantasy   \n",
       "1        1  Toy Story (1995)  Adventure|Animation|Children|Comedy|Fantasy   \n",
       "2        1  Toy Story (1995)  Adventure|Animation|Children|Comedy|Fantasy   \n",
       "3        1  Toy Story (1995)  Adventure|Animation|Children|Comedy|Fantasy   \n",
       "4        1  Toy Story (1995)  Adventure|Animation|Children|Comedy|Fantasy   \n",
       "\n",
       "   userId  rating   timestamp  \n",
       "0       1     4.0   964982703  \n",
       "1       5     4.0   847434962  \n",
       "2       7     4.5  1106635946  \n",
       "3      15     2.5  1510577970  \n",
       "4      17     4.5  1305696483  "
      ]
     },
     "metadata": {},
     "output_type": "display_data"
    },
    {
     "name": "stdout",
     "output_type": "stream",
     "text": [
      "\n",
      "----------------------------Data information ----------------------------\n",
      "<class 'pandas.core.frame.DataFrame'>\n",
      "Int64Index: 100836 entries, 0 to 100835\n",
      "Data columns (total 6 columns):\n",
      " #   Column     Non-Null Count   Dtype  \n",
      "---  ------     --------------   -----  \n",
      " 0   movieId    100836 non-null  int64  \n",
      " 1   title      100836 non-null  object \n",
      " 2   genres     100836 non-null  object \n",
      " 3   userId     100836 non-null  int64  \n",
      " 4   rating     100836 non-null  float64\n",
      " 5   timestamp  100836 non-null  int64  \n",
      "dtypes: float64(1), int64(3), object(2)\n",
      "memory usage: 5.4+ MB\n"
     ]
    },
    {
     "data": {
      "text/plain": [
       "None"
      ]
     },
     "metadata": {},
     "output_type": "display_data"
    },
    {
     "name": "stdout",
     "output_type": "stream",
     "text": [
      "\n",
      "----------------------------Null Values ----------------------------\n"
     ]
    },
    {
     "data": {
      "text/plain": [
       "movieId      0\n",
       "title        0\n",
       "genres       0\n",
       "userId       0\n",
       "rating       0\n",
       "timestamp    0\n",
       "dtype: int64"
      ]
     },
     "metadata": {},
     "output_type": "display_data"
    },
    {
     "name": "stdout",
     "output_type": "stream",
     "text": [
      "\n",
      "----------------------------Duplicate Values ----------------------------\n",
      "0 duplicate values\n"
     ]
    },
    {
     "data": {
      "text/html": [
       "<div>\n",
       "<style scoped>\n",
       "    .dataframe tbody tr th:only-of-type {\n",
       "        vertical-align: middle;\n",
       "    }\n",
       "\n",
       "    .dataframe tbody tr th {\n",
       "        vertical-align: top;\n",
       "    }\n",
       "\n",
       "    .dataframe thead th {\n",
       "        text-align: right;\n",
       "    }\n",
       "</style>\n",
       "<table border=\"1\" class=\"dataframe\">\n",
       "  <thead>\n",
       "    <tr style=\"text-align: right;\">\n",
       "      <th></th>\n",
       "      <th>movieId</th>\n",
       "      <th>userId</th>\n",
       "      <th>rating</th>\n",
       "      <th>timestamp</th>\n",
       "    </tr>\n",
       "  </thead>\n",
       "  <tbody>\n",
       "    <tr>\n",
       "      <th>count</th>\n",
       "      <td>100836.000000</td>\n",
       "      <td>100836.000000</td>\n",
       "      <td>100836.000000</td>\n",
       "      <td>1.008360e+05</td>\n",
       "    </tr>\n",
       "    <tr>\n",
       "      <th>mean</th>\n",
       "      <td>19435.295718</td>\n",
       "      <td>326.127564</td>\n",
       "      <td>3.501557</td>\n",
       "      <td>1.205946e+09</td>\n",
       "    </tr>\n",
       "    <tr>\n",
       "      <th>std</th>\n",
       "      <td>35530.987199</td>\n",
       "      <td>182.618491</td>\n",
       "      <td>1.042529</td>\n",
       "      <td>2.162610e+08</td>\n",
       "    </tr>\n",
       "    <tr>\n",
       "      <th>min</th>\n",
       "      <td>1.000000</td>\n",
       "      <td>1.000000</td>\n",
       "      <td>0.500000</td>\n",
       "      <td>8.281246e+08</td>\n",
       "    </tr>\n",
       "    <tr>\n",
       "      <th>25%</th>\n",
       "      <td>1199.000000</td>\n",
       "      <td>177.000000</td>\n",
       "      <td>3.000000</td>\n",
       "      <td>1.019124e+09</td>\n",
       "    </tr>\n",
       "    <tr>\n",
       "      <th>50%</th>\n",
       "      <td>2991.000000</td>\n",
       "      <td>325.000000</td>\n",
       "      <td>3.500000</td>\n",
       "      <td>1.186087e+09</td>\n",
       "    </tr>\n",
       "    <tr>\n",
       "      <th>75%</th>\n",
       "      <td>8122.000000</td>\n",
       "      <td>477.000000</td>\n",
       "      <td>4.000000</td>\n",
       "      <td>1.435994e+09</td>\n",
       "    </tr>\n",
       "    <tr>\n",
       "      <th>max</th>\n",
       "      <td>193609.000000</td>\n",
       "      <td>610.000000</td>\n",
       "      <td>5.000000</td>\n",
       "      <td>1.537799e+09</td>\n",
       "    </tr>\n",
       "  </tbody>\n",
       "</table>\n",
       "</div>"
      ],
      "text/plain": [
       "             movieId         userId         rating     timestamp\n",
       "count  100836.000000  100836.000000  100836.000000  1.008360e+05\n",
       "mean    19435.295718     326.127564       3.501557  1.205946e+09\n",
       "std     35530.987199     182.618491       1.042529  2.162610e+08\n",
       "min         1.000000       1.000000       0.500000  8.281246e+08\n",
       "25%      1199.000000     177.000000       3.000000  1.019124e+09\n",
       "50%      2991.000000     325.000000       3.500000  1.186087e+09\n",
       "75%      8122.000000     477.000000       4.000000  1.435994e+09\n",
       "max    193609.000000     610.000000       5.000000  1.537799e+09"
      ]
     },
     "metadata": {},
     "output_type": "display_data"
    },
    {
     "name": "stdout",
     "output_type": "stream",
     "text": [
      "-------------Data Details---------------\n",
      "Number of unique users: 610\n",
      "Number of unique movies: 9724\n"
     ]
    }
   ],
   "source": [
    "class DataUnderstanding:\n",
    "    def __init__(self, df):\n",
    "        self.df = df\n",
    "\n",
    "    def examine_data(self):\n",
    "        print(\"----------------------------Details about the data----------------------------\\n \")\n",
    "        print(\"----------------------------Shape of the dataset---------------------------- \")\n",
    "        print(f\"The dataset is a DataFrame with {self.df.shape[0]} rows and {self.df.shape[1]} columns\\n\")\n",
    "        print(\"----------------------------Columns of the dataset---------------------------- \")\n",
    "        print(self.df.columns.to_list())\n",
    "        display(self.df.columns)\n",
    "        print(\"---------------------------- First 5 records of the dataset---------------------------- \")\n",
    "        display(self.df.head())\n",
    "        # Display information about the dataset\n",
    "        print(\"\\n----------------------------Data information ----------------------------\")\n",
    "        display(self.df.info())\n",
    "        print(\"\\n----------------------------Null Values ----------------------------\")\n",
    "        display(self.df.isnull().sum())\n",
    "        print(\"\\n----------------------------Duplicate Values ----------------------------\")\n",
    "        print(self.df.duplicated().sum(), 'duplicate values')\n",
    "        display(self.df.describe())\n",
    "        print('-------------Data Details---------------')\n",
    "        print(f'Number of unique users:', movie_rating_df.userId.nunique())\n",
    "        print(f'Number of unique movies:', movie_rating_df.movieId.nunique())\n",
    "\n",
    "# Instantiate the DataUnderstanding class\n",
    "data_understanding = DataUnderstanding(movie_rating_df)\n",
    "\n",
    "# Replace \"movie_rating_df\" with your actual dataframe\n",
    "data_understanding.examine_data()\n"
   ]
  },
  {
   "cell_type": "markdown",
   "metadata": {},
   "source": [
    "The `examine_data` function serves the purpose of providing a comprehensive overview of a given DataFrame (df). The function prints and displays key details and insights about the dataset. The information presented includes the shape of the dataset, column names, the initial records, data types, null values, and the count of duplicate values."
   ]
  },
  {
   "cell_type": "markdown",
   "metadata": {},
   "source": [
    "### 3. DATA ANALYSIS\n"
   ]
  },
  {
   "cell_type": "code",
   "execution_count": 4,
   "metadata": {},
   "outputs": [],
   "source": [
    "class DataAnalyzer(DataUnderstanding):\n",
    "    def __init__(self, df):\n",
    "        self.df = df\n",
    "    \n",
    "    # A function to create plots\n",
    "    def create_plots(df, plot_type, columns_to_plot, y = None):\n",
    "        if plot_type == 'count_plot':\n",
    "            plt.figure(figsize=(12,8))\n",
    "            sns.countplot(data=df, x=columns_to_plot)\n",
    "            plt.title(f'Distribution of movie {columns_to_plot}')\n",
    "            plt.xticks(rotation=90)\n",
    "            plt.show()\n",
    "        elif plot_type == 'bar_plot1':\n",
    "            plt.figure(figsize=(12, 7))\n",
    "            sns.barplot(columns_to_plot.index, columns_to_plot.values)\n",
    "            plt.title('Top 10 most frequently rated movies')\n",
    "            plt.xlabel('Movie tile')\n",
    "            plt.xticks(rotation=90)\n",
    "            plt.ylabel('Count')\n",
    "            plt.show()\n",
    "        elif plot_type == 'bar_plot2':\n",
    "            plt.figure(figsize=(12, 7))\n",
    "            sns.barplot(columns_to_plot.index, columns_to_plot.values)\n",
    "            plt.title('Top 10 most frequently rated movies and their average ratings')\n",
    "            plt.xlabel('Movie tile')\n",
    "            plt.xticks(rotation=90)\n",
    "            plt.ylabel('Average Rating')\n",
    "            plt.show()\n",
    "    def splitting_string(df):\n",
    "        df['genres'] = df['genres'].apply(lambda x: x.split('|'))\n",
    "        from collections import Counter\n",
    "        genre_frequency = Counter(g for genres in df['genres'] for g in genres)\n",
    "        return genre_frequency\n",
    "    \n",
    "    def explode_data(df):\n",
    "        exploded_genres_df = movie_rating_df.copy()\n",
    "        exploded_genres_df = exploded_genres_df.explode('genres')\n",
    "        return exploded_genres_df\n",
    "    \n",
    "    def bar_plot(x, y, data):\n",
    "        plt.figure(figsize=(12,6))\n",
    "        sns.barplot(x=x, y=y, data=data)\n",
    "        plt.title('Genres and their average ratings')\n",
    "        plt.xlabel(f'{x}')\n",
    "        plt.xticks(rotation=90)\n",
    "        plt.ylabel(f'{y}')\n",
    "        plt.show()\n",
    "\n",
    "    def count_plot(df):\n",
    "        plt.figure(figsize=(23,10))\n",
    "        sns.countplot(data=exploded_genres_df, x='genres', hue='rating')\n",
    "        plt.title(f'Distribution of rating per genre')\n",
    "        plt.show()\n",
    "        \n",
    "    def sort_movie_ratings(movie, order):\n",
    "        mean_rating = movie.groupby('title')[['rating']].mean()\n",
    "        mean_rating_sorted = mean_rating['rating'].sort_values(ascending=False)\n",
    "        if order == 'top':\n",
    "            ranked_movies = mean_rating_sorted.head(20)\n",
    "        elif order == 'bottom':\n",
    "            ranked_movies = mean_rating_sorted.tail(20)\n",
    "        return ranked_movies\n",
    "        print(\"......The top 20 highest rated movies........\\n\", sort_movie_ratings(movie_rating_df, 'top'))\n",
    "        print(\"\\n.....The bottom 20 lowest rated movies....\\n\", sort_movie_ratings(movie_rating_df, 'bottom'))"
   ]
  },
  {
   "cell_type": "markdown",
   "metadata": {},
   "source": [
    "#### UNIVARIATE ANALYSIS"
   ]
  },
  {
   "cell_type": "markdown",
   "metadata": {},
   "source": [
    "After the initial analysis we jump right into plotting the different columns in the dataset to see the distribution. We will do this by first doing a univariate analysis which will be looking at the distributions of individual columns. The columns we have singled out are: rating, title."
   ]
  },
  {
   "cell_type": "code",
   "execution_count": 5,
   "metadata": {
    "scrolled": false
   },
   "outputs": [
    {
     "data": {
      "image/png": "[encoded data removed]",
      "text/plain": [
       "<Figure size 864x576 with 1 Axes>"
      ]
     },
     "metadata": {
      "needs_background": "light"
     },
     "output_type": "display_data"
    }
   ],
   "source": [
    "DataAnalyzer.create_plots(movie_rating_df, 'count_plot', 'rating')"
   ]
  },
  {
   "cell_type": "markdown",
   "metadata": {},
   "source": [
    "The distribution of ratings is right-skewed, meaning there are more movies with higher ratings than lower ratings. \n",
    "\n",
    "The most frequent rating is 4.0, followed by 3.0 and 5.\n",
    "\n",
    "This indicates that most users are having a good user experience so far with the current recommendations. The next step is would be to plot a graph indicating the most popular genres. "
   ]
  },
  {
   "cell_type": "code",
   "execution_count": 6,
   "metadata": {},
   "outputs": [
    {
     "data": {
      "image/png": "[encoded data removed]",
      "text/plain": [
       "<Figure size 864x504 with 1 Axes>"
      ]
     },
     "metadata": {
      "needs_background": "light"
     },
     "output_type": "display_data"
    }
   ],
   "source": [
    "top_10_views = movie_rating_df['title'].value_counts().head(10)\n",
    "DataAnalyzer.create_plots(movie_rating_df, 'bar_plot1', top_10_views)"
   ]
  },
  {
   "cell_type": "markdown",
   "metadata": {},
   "source": [
    "The most frequently rated movies are Forrest Gump (1994) and Shawshank Redemption (1994) respectively, with over 300 ratings.\n",
    "\n",
    "The top 10 includes a mix of genres, including drama, comedy, action, thriller, and science fiction."
   ]
  },
  {
   "cell_type": "code",
   "execution_count": 7,
   "metadata": {},
   "outputs": [
    {
     "data": {
      "text/plain": [
       "Counter({'Adventure': 24161,\n",
       "         'Animation': 6988,\n",
       "         'Children': 9208,\n",
       "         'Comedy': 39053,\n",
       "         'Fantasy': 11834,\n",
       "         'Romance': 18124,\n",
       "         'Drama': 41928,\n",
       "         'Action': 30635,\n",
       "         'Crime': 16681,\n",
       "         'Thriller': 26452,\n",
       "         'Horror': 7291,\n",
       "         'Mystery': 7674,\n",
       "         'Sci-Fi': 17243,\n",
       "         'War': 4859,\n",
       "         'Musical': 4138,\n",
       "         'Documentary': 1219,\n",
       "         'IMAX': 4145,\n",
       "         'Western': 1930,\n",
       "         'Film-Noir': 870,\n",
       "         '(no genres listed)': 47})"
      ]
     },
     "execution_count": 7,
     "metadata": {},
     "output_type": "execute_result"
    }
   ],
   "source": [
    "DataAnalyzer.splitting_string(movie_rating_df)"
   ]
  },
  {
   "cell_type": "markdown",
   "metadata": {},
   "source": [
    "The most prevalent genres include 'Comedy' (39,053 occurrences), 'Drama' (41,928 occurrences), and 'Action' (30,635 occurrences), suggesting a significant presence of these genres in the dataset.\n",
    "\n",
    "Conversely, genres such as 'Documentary' and 'IMAX' have considerably fewer occurrences, indicating a lower representation of these genres in the dataset."
   ]
  },
  {
   "cell_type": "markdown",
   "metadata": {},
   "source": [
    "Next, we create a copy of the dataset to preserve the original dataset to ensure reproducibility and easy testing and debugging.After which we join all the columns into a single dataset so we can start our univariate analysis."
   ]
  },
  {
   "cell_type": "code",
   "execution_count": 8,
   "metadata": {},
   "outputs": [],
   "source": [
    "exploded_genres_df = DataAnalyzer.explode_data(movie_rating_df)"
   ]
  },
  {
   "cell_type": "code",
   "execution_count": 9,
   "metadata": {
    "scrolled": false
   },
   "outputs": [
    {
     "data": {
      "image/png": "[encoded data removed]",
      "text/plain": [
       "<Figure size 864x576 with 1 Axes>"
      ]
     },
     "metadata": {
      "needs_background": "light"
     },
     "output_type": "display_data"
    }
   ],
   "source": [
    "DataAnalyzer.create_plots(exploded_genres_df, 'count_plot', 'genres')"
   ]
  },
  {
   "cell_type": "markdown",
   "metadata": {},
   "source": [
    "Analyzing the bar chart data, it is evident that 'Drama' stands out with 41,928 occurrences, followed closely by 'Comedy' with 39,053 occurrences, and 'Action' with 30,635 occurrences in the dataset. \n",
    "\n",
    "This distribution highlights the substantial presence of these genres, indicating their popularity among the collected movies. \n",
    "\n",
    "Conversely, genres such as 'Documentary' and 'IMAX' exhibit considerably fewer occurrences, suggesting a comparatively lower representation in the dataset."
   ]
  },
  {
   "cell_type": "markdown",
   "metadata": {},
   "source": [
    "#### BIVARIATE DATA ANALYSIS"
   ]
  },
  {
   "cell_type": "markdown",
   "metadata": {},
   "source": [
    "Bivariate analysis is used to explore the relationship between two variables. It involves the simultaneous analysis of two variables to understand the patterns of their variation, co-variation, and potential relationships. The primary goal of bivariate analysis is to uncover patterns, associations, and dependencies between the two variables being studied. "
   ]
  },
  {
   "cell_type": "code",
   "execution_count": 10,
   "metadata": {},
   "outputs": [
    {
     "data": {
      "image/png": "[encoded data removed]",
      "text/plain": [
       "<Figure size 864x504 with 1 Axes>"
      ]
     },
     "metadata": {
      "needs_background": "light"
     },
     "output_type": "display_data"
    }
   ],
   "source": [
    "top_10_views = movie_rating_df['title'].value_counts().nlargest(10)\n",
    "average_ratings = movie_rating_df.groupby('title')['rating'].mean().loc[top_10_views.index]\n",
    "\n",
    "DataAnalyzer.create_plots(movie_rating_df, 'bar_plot2', average_ratings)"
   ]
  },
  {
   "cell_type": "markdown",
   "metadata": {},
   "source": [
    "Shawshank Redemption has the highest average rating amongst the most frequently rated movies, followed by Schindler's List and Star Wars Episode IV - A New Hope.\n",
    "\n",
    "All of the top 10 most frequently movies have average ratings above 3.5, indicating generally favorable reviews."
   ]
  },
  {
   "cell_type": "code",
   "execution_count": 11,
   "metadata": {},
   "outputs": [
    {
     "data": {
      "image/png": "[encoded data removed]",
      "text/plain": [
       "<Figure size 864x432 with 1 Axes>"
      ]
     },
     "metadata": {
      "needs_background": "light"
     },
     "output_type": "display_data"
    }
   ],
   "source": [
    "DataAnalyzer.bar_plot('genres', 'rating', exploded_genres_df)"
   ]
  },
  {
   "cell_type": "markdown",
   "metadata": {},
   "source": [
    "From the bar chart it can be seen that all the genres have an average rating of above 3.\n",
    "\n",
    "The ratings for the genres is higher in film noir which is stylized Hollywood crime dramas, particularly those that emphasize cynical attitudes and motivations followed by Documentary.\n"
   ]
  },
  {
   "cell_type": "code",
   "execution_count": 12,
   "metadata": {},
   "outputs": [
    {
     "data": {
      "image/png": "[encoded data removed]",
      "text/plain": [
       "<Figure size 1656x720 with 1 Axes>"
      ]
     },
     "metadata": {
      "needs_background": "light"
     },
     "output_type": "display_data"
    }
   ],
   "source": [
    "DataAnalyzer.count_plot(exploded_genres_df)"
   ]
  },
  {
   "cell_type": "markdown",
   "metadata": {},
   "source": [
    "Drama and Comedy genres tend to have a higher concentration of movies with higher ratings, while Documentary and Sci-Fi genres tend to have more movies with lower ratings while also having a relatively higher number of movies with lower ratings.\n",
    "\n",
    "Drama, Comedy, Action, Thriller and Adventure appear to have the highest count of ratings indicating higher user engagement.\n",
    "\n",
    "Film Noir, Western and Documentary genres seem to have the lowest count of ratings indicating low user engagement"
   ]
  },
  {
   "cell_type": "code",
   "execution_count": 13,
   "metadata": {},
   "outputs": [
    {
     "data": {
      "text/plain": [
       "title\n",
       "Karlson Returns (1970)                               5.0\n",
       "Winter in Prostokvashino (1984)                      5.0\n",
       "My Love (2006)                                       5.0\n",
       "Sorority House Massacre II (1990)                    5.0\n",
       "Winnie the Pooh and the Day of Concern (1972)        5.0\n",
       "Sorority House Massacre (1986)                       5.0\n",
       "Bill Hicks: Revelations (1993)                       5.0\n",
       "My Man Godfrey (1957)                                5.0\n",
       "Hellbenders (2012)                                   5.0\n",
       "In the blue sea, in the white foam. (1984)           5.0\n",
       "Won't You Be My Neighbor? (2018)                     5.0\n",
       "Red Sorghum (Hong gao liang) (1987)                  5.0\n",
       "Love Exposure (Ai No Mukidashi) (2008)               5.0\n",
       "My Sassy Girl (Yeopgijeogin geunyeo) (2001)          5.0\n",
       "The Love Bug (1997)                                  5.0\n",
       "Ballad of Narayama, The (Narayama bushiko) (1983)    5.0\n",
       "Heidi Fleiss: Hollywood Madam (1995)                 5.0\n",
       "Louis Theroux: Law & Disorder (2008)                 5.0\n",
       "Winnie the Pooh Goes Visiting (1971)                 5.0\n",
       "In the Realm of the Senses (Ai no corrida) (1976)    5.0\n",
       "Name: rating, dtype: float64"
      ]
     },
     "execution_count": 13,
     "metadata": {},
     "output_type": "execute_result"
    }
   ],
   "source": [
    "DataAnalyzer.sort_movie_ratings(movie_rating_df, 'top')"
   ]
  },
  {
   "cell_type": "code",
   "execution_count": 14,
   "metadata": {},
   "outputs": [
    {
     "data": {
      "text/plain": [
       "title\n",
       "3 Ninjas Knuckle Up (1995)                            0.5\n",
       "My Bloody Valentine (1981)                            0.5\n",
       "3 dev adam (Three Giant Men) (1973)                   0.5\n",
       "Superfast! (2015)                                     0.5\n",
       "Crow, The: Wicked Prayer (2005)                       0.5\n",
       "Survivor (2015)                                       0.5\n",
       "Mortal Kombat: The Journey Begins (1995)              0.5\n",
       "Bad Santa 2 (2016)                                    0.5\n",
       "Cyborg (1989)                                         0.5\n",
       "Hard Ticket to Hawaii (1987)                          0.5\n",
       "Baby Boy (2001)                                       0.5\n",
       "Midnight Chronicles (2009)                            0.5\n",
       "Haunted House 2, A (2014)                             0.5\n",
       "Maria Bamford: The Special Special Special! (2012)    0.5\n",
       "Dead of Night (1945)                                  0.5\n",
       "The Beast of Hollow Mountain (1956)                   0.5\n",
       "Follow Me, Boys! (1966)                               0.5\n",
       "The Butterfly Effect 3: Revelations (2009)            0.5\n",
       "The Emoji Movie (2017)                                0.5\n",
       "Rust and Bone (De rouille et d'os) (2012)             0.5\n",
       "Name: rating, dtype: float64"
      ]
     },
     "execution_count": 14,
     "metadata": {},
     "output_type": "execute_result"
    }
   ],
   "source": [
    "DataAnalyzer.sort_movie_ratings(movie_rating_df, 'bottom')"
   ]
  },
  {
   "cell_type": "markdown",
   "metadata": {},
   "source": [
    "## 4. MODELING\n",
    "The technique used is collaborative filtering which relies on the idea that individuals with similar preferences tend to enjoy similar items or content."
   ]
  },
  {
   "cell_type": "code",
   "execution_count": 15,
   "metadata": {},
   "outputs": [],
   "source": [
    "class Modeling:\n",
    "    def __init__(self, df):\n",
    "        self.df = df\n",
    "        \n",
    "    def training(df):\n",
    "        # Select the necessary columns from the dataset \n",
    "        user_item_df = df[['userId', 'movieId', 'rating']]\n",
    "        \n",
    "        # Transform the pandas dataframe into Surprise dataset \n",
    "        reader = Reader()\n",
    "        data = Dataset.load_from_df(user_item_df, reader)\n",
    "\n",
    "        # Split into train and test sets\n",
    "        trainset, testset = train_test_split(data, test_size=0.2, random_state=111)\n",
    "        \n",
    "\n",
    "        return trainset, testset, data, user_item_df\n",
    "    def model_creation(approach, trainset, testset):\n",
    "        if approach == SVD:\n",
    "            model = approach(n_factors= 50, reg_all=0.05, random_state = 111)\n",
    "            model.fit(trainset)\n",
    "            print(f'{approach.__name__} RMSE:', accuracy.rmse(model.test(testset)))\n",
    "        else:    \n",
    "            model = approach(sim_options={'name':'pearson', 'user_based':True},  random_state=111)\n",
    "            model.fit(trainset)\n",
    "            print(f'{approach.__name__} RMSE:', accuracy.rmse(model.test(testset)))   \n",
    "    def param_grid_search(model_to_tune, data): \n",
    "    \n",
    "        # Setting relevant parameters for Gridsearch\n",
    "        grid = {\n",
    "        'k': [30, 40],   # Number of neighbors\n",
    "        'sim_options': {\n",
    "            'name': ['cosine', 'pearson'],  # Similarity measures\n",
    "            'user_based': [True],  # User-based collaborative filtering\n",
    "            },\n",
    "        }\n",
    "        # Creating a parameter grid search for SVD model\n",
    "        params = {'n_factors': [20, 50, 100],\n",
    "         'reg_all': [0.02, 0.05, 0.1],\n",
    "        #  'n_epochs': [5,10],\n",
    "        # 'lr_all': [0.002,0.005]\n",
    "         }\n",
    "\n",
    "        # Running grid search with the defined parameter grid\n",
    "        if model_to_tune == SVD:\n",
    "            grid_search = GridSearchCV(model_to_tune, params,\n",
    "                                    measures=['rmse'], n_jobs=-1)\n",
    "        else:\n",
    "            grid_search = GridSearchCV(model_to_tune, grid,\n",
    "                                    measures=['rmse'], n_jobs=-1)\n",
    "        grid_search.fit(data)\n",
    "        print(f\"Best RMSE for {model_to_tune.__name__}: {grid_search.best_score}\")\n",
    "        print(f\"Best Hyperparameters for {model_to_tune.__name__}: {grid_search.best_params}\")\n",
    "\n",
    "    def make_evaluation_table(metrics_dict):\n",
    "        metrics_df = pd.DataFrame(metrics_dict)\n",
    "        evaluation_table = metrics_df.to_html(index=False)\n",
    "        return evaluation_table\n",
    "\n",
    "#     metrics_dict = {\n",
    "#         'Model': ['KNNBasic', 'KNNBaseline', 'KNNWithMeans', 'SVD'],\n",
    "#         'RMSE': [0.9721, 0.8790, 0.8995, 0.8709],\n",
    "#         'RMSE after Tuning': [0.9705, 0.8767, 0.8964, 0.8688],\n",
    "#         }\n",
    "\n",
    "    # A function to ask the user to rate movies they have watched\n",
    "    def movie_rater(movie_df,num, genre=None):\n",
    "        userID = 1000\n",
    "        rating_list = []\n",
    "        genre = input('What movie genre have you watched before?')\n",
    "\n",
    "        while num > 0:\n",
    "            if genre:\n",
    "                movie = movie_df[movie_df['genres'].str.contains(genre)].sample(1)\n",
    "            else:\n",
    "                movie = movie_df.sample(1)\n",
    "            print(movie)\n",
    "            rating = input('How do you rate this movie on a scale of 1-5, press n if you have not seen :\\n')\n",
    "            if rating == 'n':\n",
    "                continue\n",
    "            else:\n",
    "                rating_one_movie = {'userId':userID,'movieId':movie['movieId'].values[0], 'rating':rating}\n",
    "                rating_list.append(rating_one_movie) \n",
    "                num -= 1\n",
    "        return rating_list\n",
    "    \n",
    "    # A function to rank the movies in the database based on the user's rating on presented movies\n",
    "    def rank_movies(df, user_rating):\n",
    "            ## add the new ratings to the original ratings DataFrame\n",
    "        user_ratings = pd.DataFrame(user_rating)\n",
    "        string_column = user_ratings.select_dtypes(include=[object]).columns\n",
    "        for col in string_column:\n",
    "            user_ratings[col] = pd.to_numeric(user_ratings[col], errors = 'coerce')\n",
    "        user_ratings = user_ratings.dropna()\n",
    "        new_ratings_df = pd.concat([df, user_ratings], axis=0)\n",
    "        reader = Reader()\n",
    "        new_data = Dataset.load_from_df(new_ratings_df, reader)\n",
    "\n",
    "        # train a model using the new combined DataFrame\n",
    "        svd_ = SVD(n_factors= 50, reg_all=0.05)\n",
    "        svd_.fit(new_data.build_full_trainset())\n",
    "\n",
    "        # make predictions for the user\n",
    "        list_of_movies = []\n",
    "        for m_id in movie_rating_df['movieId'].unique():\n",
    "            list_of_movies.append( (m_id,svd_.predict(1000,m_id)[3]))\n",
    "        # Order the predictions from highest to lowest rated\n",
    "        ranked_movies = sorted(list_of_movies, key=lambda x:x[1], reverse=True)\n",
    "        return ranked_movies\n",
    "    \n",
    "    # A function to recommend movies to the user\n",
    "    def recommended_movies(user_ratings, movie_title_df, n):\n",
    "        recommended_movies_set = set()  # Keep track of recommended movies\n",
    "\n",
    "        for idx, rec in enumerate(user_ratings):\n",
    "            movie_id = int(rec[0])\n",
    "            title_array = movie_title_df.loc[movie_title_df['movieId'] == movie_id, 'title'].values\n",
    "\n",
    "            # Check if the array is not empty and the movie has not been recommended before\n",
    "            if title_array.any() and title_array[0] not in recommended_movies_set:\n",
    "                title = title_array[0]\n",
    "                print('Recommendation #', idx+1, ':', title, '\\n')\n",
    "                recommended_movies_set.add(title)  # Add the movie to the set of recommended movies\n",
    "                n -= 1\n",
    "\n",
    "            if n == 0:\n",
    "                break\n",
    "    "
   ]
  },
  {
   "cell_type": "code",
   "execution_count": 16,
   "metadata": {},
   "outputs": [],
   "source": [
    "# Training our dataset\n",
    "trainset, testset, data, user_item_df = Modeling.training(movie_rating_df)"
   ]
  },
  {
   "cell_type": "markdown",
   "metadata": {},
   "source": [
    "### MODEL 1: KNN BASIC MODEL\n",
    "\n",
    "#### Building and Tuning KNN Basic Model"
   ]
  },
  {
   "cell_type": "markdown",
   "metadata": {},
   "source": [
    "#### Building the KNN Basic Model"
   ]
  },
  {
   "cell_type": "code",
   "execution_count": 17,
   "metadata": {},
   "outputs": [
    {
     "name": "stdout",
     "output_type": "stream",
     "text": [
      "Computing the pearson similarity matrix...\n",
      "Done computing similarity matrix.\n",
      "RMSE: 0.9721\n",
      "KNNBasic RMSE: 0.9720846164183417\n"
     ]
    }
   ],
   "source": [
    "Modeling.model_creation(KNNBasic, trainset, testset)"
   ]
  },
  {
   "cell_type": "markdown",
   "metadata": {},
   "source": [
    ">* KNNBasic model is built using collaborative filtering.\n",
    ">* The initial RMSE for KNNBasic is 0.9721."
   ]
  },
  {
   "cell_type": "markdown",
   "metadata": {},
   "source": [
    "The initial RMSE (Root Mean Square Error) for the KNNBasic model is 0.9721. \n",
    "\n",
    "A lower RMSE value indicates that the model's predictions are closer to the actual observed values, hence indicating better accuracy. In this case, an RMSE of 0.9721 indicates that, on average, the KNNBasic model's predictions are off by approximately 0.9721 units from the actual ratings in the dataset.\n",
    "\n",
    "It's important to note that the interpretation of RMSE can vary depending on the specific use case and the range of the values being predicted. In the context of recommendation systems, an RMSE of 0.9721 suggests a certain level of accuracy, but further analysis and comparison with other models or baseline methods may be necessary to determine the effectiveness of the KNNBasic model for the specific recommendation task at hand."
   ]
  },
  {
   "cell_type": "markdown",
   "metadata": {},
   "source": [
    "#### Tuning the KNNBasic Model"
   ]
  },
  {
   "cell_type": "code",
   "execution_count": 18,
   "metadata": {},
   "outputs": [
    {
     "name": "stdout",
     "output_type": "stream",
     "text": [
      "Best RMSE for KNNBasic: {'rmse': 0.9721431635469813}\n",
      "Best Hyperparameters for KNNBasic: {'rmse': {'k': 40, 'sim_options': {'name': 'pearson', 'user_based': True}}}\n"
     ]
    }
   ],
   "source": [
    "Modeling.param_grid_search(KNNBasic, data)"
   ]
  },
  {
   "cell_type": "markdown",
   "metadata": {},
   "source": [
    "> * Grid search has performed to find optimal hyperparameters for the KNNBasic model.\n",
    "> * The best hyperparameters include 40 neighbors with cosine similarity for user-based collaborative filtering.\n",
    "> * The tuned RMSE for KNNBasic is 0.9731, which is slightly worse than the initial model from the build one which was 0.9721 "
   ]
  },
  {
   "cell_type": "markdown",
   "metadata": {},
   "source": [
    "The situation where the tuned RMSE for the KNNBasic model is slightly worse than the initial RMSE can be attributed to several factors:\n",
    "1. Impact of hyperparameters\n",
    "2. Complexity and overfitting\n",
    "3. Data Variability\n",
    "4. Randomness\n",
    "5. Statistical Noise"
   ]
  },
  {
   "cell_type": "markdown",
   "metadata": {},
   "source": [
    "### MODEL 2: KNNBaseline Model\n"
   ]
  },
  {
   "cell_type": "markdown",
   "metadata": {},
   "source": [
    "The KNNBaseline algorithm, extends the functionality of the KNNBasic algorithm by incorporating a baseline prediction into the similarity calculation.\n",
    "\n",
    "KNNBaseline offers improved accuracy, robustness to sparsity, better handling of biases, and effective mitigation of the cold start problem due to the incorporation of baseline predictions. This makes KNNBaseline a preferred choice in many recommendation system scenarios, particularly when dealing with real-world, sparse, and dynamic datasets."
   ]
  },
  {
   "cell_type": "markdown",
   "metadata": {},
   "source": [
    "#### Building The KNNBaseline Model"
   ]
  },
  {
   "cell_type": "code",
   "execution_count": 19,
   "metadata": {},
   "outputs": [
    {
     "name": "stdout",
     "output_type": "stream",
     "text": [
      "Estimating biases using als...\n",
      "Computing the pearson similarity matrix...\n",
      "Done computing similarity matrix.\n",
      "RMSE: 0.8790\n",
      "KNNBaseline RMSE: 0.8789611074934803\n"
     ]
    }
   ],
   "source": [
    "Modeling.model_creation(KNNBaseline, trainset, testset)"
   ]
  },
  {
   "cell_type": "markdown",
   "metadata": {},
   "source": [
    "> The RMSE for KNNBaseline is 0.8790, indicating improved performance compared to KNNBasic."
   ]
  },
  {
   "cell_type": "markdown",
   "metadata": {},
   "source": [
    "#### Tuning the KNNBaseline Model"
   ]
  },
  {
   "cell_type": "code",
   "execution_count": 20,
   "metadata": {},
   "outputs": [
    {
     "name": "stdout",
     "output_type": "stream",
     "text": [
      "Best RMSE for KNNBaseline: {'rmse': 0.8769858628288711}\n",
      "Best Hyperparameters for KNNBaseline: {'rmse': {'k': 40, 'sim_options': {'name': 'pearson', 'user_based': True}}}\n"
     ]
    }
   ],
   "source": [
    "Modeling.param_grid_search(KNNBaseline, data)"
   ]
  },
  {
   "cell_type": "markdown",
   "metadata": {},
   "source": [
    ">* Grid search for KNNBaseline is performed to fine-tune hyperparameters.\n",
    ">* The best hyperparameters include 40 neighbors with cosine similarity for user-based collaborative filtering.\n",
    ">* The tuned RMSE for KNNBaseline is 0.8762, further improving the model from the baseline build which had 0.8790"
   ]
  },
  {
   "cell_type": "markdown",
   "metadata": {},
   "source": [
    "### MODEL 3: KNNWithMeans Model"
   ]
  },
  {
   "cell_type": "markdown",
   "metadata": {},
   "source": [
    "In KNNWithMeans, the collaborative filtering is performed using the k-nearest neighbors approach, where the similarity between users or items is calculated based on their ratings.\n",
    "\n",
    "Additionally, KNNWithMeanstakes into account the mean ratings of each user or item when making predictions. This means that the model not only considers the similarities between users or items, but also adjusts for the average rating given by each user or received by each item.\n",
    "\n",
    "This model is useful when there are significant variations in the rating tendencies of different users or items, and it aims to normalize these tendencies when making predictions."
   ]
  },
  {
   "cell_type": "markdown",
   "metadata": {},
   "source": [
    "#### Building The KNN WithMeans Model"
   ]
  },
  {
   "cell_type": "code",
   "execution_count": 21,
   "metadata": {},
   "outputs": [
    {
     "name": "stdout",
     "output_type": "stream",
     "text": [
      "Computing the pearson similarity matrix...\n",
      "Done computing similarity matrix.\n",
      "RMSE: 0.8995\n",
      "KNNWithMeans RMSE: 0.8994971701396823\n"
     ]
    }
   ],
   "source": [
    "Modeling.model_creation(KNNWithMeans, trainset, testset)"
   ]
  },
  {
   "cell_type": "markdown",
   "metadata": {},
   "source": [
    "> * The RMSE for KNNWithMeans is 0.8995, indicating a slightly higher error compared to KNNBaseline. "
   ]
  },
  {
   "cell_type": "markdown",
   "metadata": {},
   "source": [
    "#### Tuning The KNN WithMeans Model"
   ]
  },
  {
   "cell_type": "code",
   "execution_count": 22,
   "metadata": {},
   "outputs": [
    {
     "name": "stdout",
     "output_type": "stream",
     "text": [
      "Best RMSE for KNNWithMeans: {'rmse': 0.8947632133442498}\n",
      "Best Hyperparameters for KNNWithMeans: {'rmse': {'k': 40, 'sim_options': {'name': 'pearson', 'user_based': True}}}\n"
     ]
    }
   ],
   "source": [
    "Modeling.param_grid_search(KNNWithMeans, data)"
   ]
  },
  {
   "cell_type": "markdown",
   "metadata": {},
   "source": [
    ">* Grid search is performed to find optimal hyperparameters for the KNNWithMeans model.\n",
    ">* The best hyperparameters include 40 neighbors with Pearson similarity for user-based collaborative filtering.\n",
    ">* The tuned RMSE for KNNWithMeans is 0.8967, showing improvement over the initial model which had 0.8995."
   ]
  },
  {
   "cell_type": "markdown",
   "metadata": {},
   "source": [
    "### MODEL 4: SVD Model"
   ]
  },
  {
   "cell_type": "markdown",
   "metadata": {},
   "source": [
    "The Singular Value Decomposition (SVD) model is a widely used collaborative filtering algorithm in recommendation systems. It is based on matrix factorization and has been popularized by winning the Netflix Prize competition."
   ]
  },
  {
   "cell_type": "markdown",
   "metadata": {},
   "source": [
    "#### Building The SVD Model"
   ]
  },
  {
   "cell_type": "code",
   "execution_count": 23,
   "metadata": {},
   "outputs": [
    {
     "name": "stdout",
     "output_type": "stream",
     "text": [
      "RMSE: 0.8709\n",
      "SVD RMSE: 0.8709079093151322\n"
     ]
    }
   ],
   "source": [
    "Modeling.model_creation(SVD, trainset, testset)"
   ]
  },
  {
   "cell_type": "markdown",
   "metadata": {},
   "source": [
    "* The RMSE for SVD is 0.8709, demonstrating a competitive performance compared to the collaborative filtering models."
   ]
  },
  {
   "cell_type": "markdown",
   "metadata": {},
   "source": [
    "#### Tuning The SVD Model"
   ]
  },
  {
   "cell_type": "code",
   "execution_count": 24,
   "metadata": {},
   "outputs": [
    {
     "name": "stdout",
     "output_type": "stream",
     "text": [
      "Best RMSE for SVD: {'rmse': 0.8685908413774228}\n",
      "Best Hyperparameters for SVD: {'rmse': {'n_factors': 100, 'reg_all': 0.05}}\n"
     ]
    }
   ],
   "source": [
    "# Grid search for KNNWithMeans Model\n",
    "Modeling.param_grid_search(SVD, data)"
   ]
  },
  {
   "cell_type": "markdown",
   "metadata": {},
   "source": [
    "* Grid search is performed to find optimal hyperparameters for the SVD model.\n",
    "* The best hyperparameters include 50 factors and a regularization term of 0.05.\n",
    "* The tuned RMSE for SVD is 0.8682, slightly improving the model."
   ]
  },
  {
   "cell_type": "markdown",
   "metadata": {},
   "source": [
    "### FINAL MODEL SELECTION AND EVALUATION\n",
    "\n",
    "The tuned SVD model performed best as compared to the rest of the models with a RMSE of 0.8682. This means that, on average, the predicted ratings are about 0.8688 units away from the actual ratings. "
   ]
  },
  {
   "cell_type": "code",
   "execution_count": 25,
   "metadata": {},
   "outputs": [
    {
     "data": {
      "text/html": [
       "<table border=\"1\" class=\"dataframe\">\n",
       "  <thead>\n",
       "    <tr style=\"text-align: right;\">\n",
       "      <th>Model</th>\n",
       "      <th>RMSE</th>\n",
       "      <th>RMSE after Tuning</th>\n",
       "    </tr>\n",
       "  </thead>\n",
       "  <tbody>\n",
       "    <tr>\n",
       "      <td>KNNBasic</td>\n",
       "      <td>0.9721</td>\n",
       "      <td>0.9705</td>\n",
       "    </tr>\n",
       "    <tr>\n",
       "      <td>KNNBaseline</td>\n",
       "      <td>0.8790</td>\n",
       "      <td>0.8767</td>\n",
       "    </tr>\n",
       "    <tr>\n",
       "      <td>KNNWithMeans</td>\n",
       "      <td>0.8995</td>\n",
       "      <td>0.8964</td>\n",
       "    </tr>\n",
       "    <tr>\n",
       "      <td>SVD</td>\n",
       "      <td>0.8709</td>\n",
       "      <td>0.8688</td>\n",
       "    </tr>\n",
       "  </tbody>\n",
       "</table>"
      ],
      "text/plain": [
       "<IPython.core.display.HTML object>"
      ]
     },
     "execution_count": 25,
     "metadata": {},
     "output_type": "execute_result"
    }
   ],
   "source": [
    "metrics_dict = {\n",
    "        'Model': ['KNNBasic', 'KNNBaseline', 'KNNWithMeans', 'SVD'],\n",
    "        'RMSE': [0.9721, 0.8790, 0.8995, 0.8709],\n",
    "        'RMSE after Tuning': [0.9705, 0.8767, 0.8964, 0.8688],\n",
    "        }\n",
    "evaluation_table = Modeling.make_evaluation_table(metrics_dict)\n",
    "HTML(evaluation_table)"
   ]
  },
  {
   "cell_type": "markdown",
   "metadata": {},
   "source": [
    ">* An evaluation table is created, summarizing the RMSE for each model before and after tuning.\n",
    ">* The SVD model stands out as the best-performing model with the lowest RMSE of 0.8688.\n",
    ">* It is therefore necessary to select the SVD Model due to its performance"
   ]
  },
  {
   "cell_type": "markdown",
   "metadata": {},
   "source": [
    "### Final Model Selection and Fitting"
   ]
  },
  {
   "cell_type": "code",
   "execution_count": 26,
   "metadata": {},
   "outputs": [
    {
     "data": {
      "text/plain": [
       "<surprise.prediction_algorithms.matrix_factorization.SVD at 0x1eb83bfe760>"
      ]
     },
     "execution_count": 26,
     "metadata": {},
     "output_type": "execute_result"
    }
   ],
   "source": [
    "# Final model selected\n",
    "final_model = SVD(n_factors= 50, reg_all=0.05, random_state=111)\n",
    "final_model.fit(trainset)"
   ]
  },
  {
   "cell_type": "markdown",
   "metadata": {},
   "source": [
    "### PREDICTIONS\n",
    "\n",
    "#### Movie Rater Function "
   ]
  },
  {
   "cell_type": "code",
   "execution_count": 30,
   "metadata": {},
   "outputs": [
    {
     "name": "stdout",
     "output_type": "stream",
     "text": [
      "What movie genre have you watched before?Action\n",
      "       movieId                                              title  genres\n",
      "49785     2951  Fistful of Dollars, A (Per un pugno di dollari...  Action\n",
      "How do you rate this movie on a scale of 1-5, press n if you have not seen :\n",
      "n\n",
      "       movieId                 title  genres\n",
      "31216     1391  Mars Attacks! (1996)  Action\n",
      "How do you rate this movie on a scale of 1-5, press n if you have not seen :\n",
      "n\n",
      "       movieId               title  genres\n",
      "45278     2571  Matrix, The (1999)  Action\n",
      "How do you rate this movie on a scale of 1-5, press n if you have not seen :\n",
      "n\n",
      "       movieId          title  genres\n",
      "40887     2193  Willow (1988)  Action\n",
      "How do you rate this movie on a scale of 1-5, press n if you have not seen :\n",
      "n\n",
      "       movieId                title  genres\n",
      "51601     3104  Midnight Run (1988)  Action\n",
      "How do you rate this movie on a scale of 1-5, press n if you have not seen :\n",
      "n\n",
      "       movieId         title  genres\n",
      "92480    84944  Rango (2011)  Action\n",
      "How do you rate this movie on a scale of 1-5, press n if you have not seen :\n",
      "5\n",
      "      movieId            title  genres\n",
      "8437      316  Stargate (1994)  Action\n",
      "How do you rate this movie on a scale of 1-5, press n if you have not seen :\n",
      "2\n"
     ]
    }
   ],
   "source": [
    "# Run the movie_rater function and assign it to user_rating\n",
    "user_rating = Modeling.movie_rater(exploded_genres_df[['movieId', 'title','genres']], 2)"
   ]
  },
  {
   "cell_type": "markdown",
   "metadata": {},
   "source": [
    "> * The movie_rater function prompts the user to input a specific movie genre that he/she has watched before. The user is then presented with two movies to rate on a scale of 1 - 5 based on their liking of the movie. "
   ]
  },
  {
   "cell_type": "markdown",
   "metadata": {},
   "source": [
    "### Generating Recommended Movies"
   ]
  },
  {
   "cell_type": "code",
   "execution_count": 31,
   "metadata": {},
   "outputs": [
    {
     "name": "stdout",
     "output_type": "stream",
     "text": [
      "Recommendation # 1 : Philadelphia Story, The (1940) \n",
      "\n",
      "Recommendation # 2 : Lawrence of Arabia (1962) \n",
      "\n",
      "Recommendation # 3 : Guess Who's Coming to Dinner (1967) \n",
      "\n",
      "Recommendation # 4 : Casablanca (1942) \n",
      "\n",
      "Recommendation # 5 : High Noon (1952) \n",
      "\n"
     ]
    }
   ],
   "source": [
    "# Run the rank_movies function\n",
    "ranked_m_ovies = Modeling.rank_movies(user_item_df, user_rating)\n",
    "\n",
    "# run the recommender function\n",
    "Modeling.recommended_movies(ranked_m_ovies, movie_rating_df, 5)"
   ]
  },
  {
   "cell_type": "markdown",
   "metadata": {},
   "source": [
    "> * The user's  ratings are used to make predictions for this new user.\n",
    "> * The recommended_movies function is used to display top 5 movie recommendations based on the user's preferences and new ratings made using the movie_rater function\n"
   ]
  },
  {
   "cell_type": "markdown",
   "metadata": {},
   "source": [
    "### Deployment Code"
   ]
  },
  {
   "cell_type": "code",
   "execution_count": null,
   "metadata": {},
   "outputs": [],
   "source": [
    "import streamlit as st\n",
    "import pandas as pd\n",
    "import pickle \n",
    "import requests\n",
    "import numpy as np\n",
    "\n",
    "###\n",
    "movie_rating_df = pd.read_csv('ml-latest-small/movie_rating_df.csv')\n",
    "movies = pd.read_csv('ml-latest-small/movies.csv')\n",
    "movies = movies.sample(frac=1, random_state=42).reset_index(drop=True)\n",
    "\n",
    "\n",
    "\n",
    "# movie = movies[movies['genres'].str.contains('Adventure')].sample(1)\n",
    "# print(movie)\n",
    "\n",
    "movie_mapper = dict(zip(movies['title'], movies.index))\n",
    "user_item_df = movie_rating_df[['userId', 'movieId', 'rating']]\n",
    "ratings = [1,2,3,4,5,'n']\n",
    "genres = ['Adventure',\n",
    "         'Animation',\n",
    "         'Children',\n",
    "         'Comedy',\n",
    "         'Fantasy',\n",
    "         'Romance',\n",
    "         'Drama',\n",
    "         'Action',\n",
    "         'Crime',\n",
    "         'Thriller',\n",
    "         'Horror',\n",
    "         'Mystery',\n",
    "         'Sci-Fi',\n",
    "         'War',\n",
    "         'Musical',\n",
    "         'Documentary',\n",
    "         'IMAX',\n",
    "         'Western',\n",
    "         'Film-Noir',\n",
    "         '(no genres listed)']\n",
    "content_matrix = pickle.load(open('content_matrix.sav','rb'))\n",
    "from sklearn.metrics.pairwise import cosine_similarity\n",
    "\n",
    "def get_movie_recommendations(movie, n):\n",
    "\n",
    "    M_idx = movie_mapper[movie]\n",
    "    # print('Movie Index: ',M_idx)\n",
    "    movie_index = content_matrix[M_idx]\n",
    "    # print('Index: ', type(movie_index))\n",
    "    scores = cosine_similarity(movie_index, content_matrix)\n",
    "    scores = scores.flatten()\n",
    "    print('Scores: ',scores)\n",
    "\n",
    "    recommended_indices = (-scores).argsort()[1:n+1]\n",
    "    print(\"Rec: \",recommended_indices)\n",
    "    return movies['title'].iloc[recommended_indices],movies['movieId'].iloc[recommended_indices]\n",
    "##\n",
    "def fetch_poster(movie_id):\n",
    "    response = requests.get('https://api.themoviedb.org/3/movie/{}?api_key=e62e106a7409881e60db5a8aaa58e0a5&language=en-US'.format(movie_id))\n",
    "    data = response.json()\n",
    "    st.text(data)\n",
    "    return \"https://image.tmdb.org/t/p/w500\" + data['poster_path']\n",
    "\n",
    "st.title('Filamu Movie Recommender')\n",
    "\n",
    "selected_movie_name = st.selectbox(\"Which movie is similar to what you'd wanna watch?\",movies['title'].values)\n",
    "if st.button('Search'):\n",
    "    names, indices = get_movie_recommendations(selected_movie_name, 10)\n",
    "    for name,id in zip(names, indices):\n",
    "        # st.text(id)\n",
    "        # st.table(name)\n",
    "        st.text(name)\n",
    "        # st.text(name)\n",
    "        # st.image(fetch_poster(id))\n",
    "    # for name in names:\n",
    "    #     for id in idx:\n",
    "    #         st.image(fetch_poster(id))\n",
    "    #         st.text(name)"
   ]
  },
  {
   "cell_type": "markdown",
   "metadata": {},
   "source": [
    "## Conclusions"
   ]
  },
  {
   "cell_type": "markdown",
   "metadata": {},
   "source": [
    "The users are generally generous with their ratings as a majority of the rating are above 3.0. The most frequent rating was a rating of 4.0 with a bit over 25,000 movies.\n",
    "\n",
    "The second most frequent rating was 3.0 with about 20,000 movies.\n",
    "\n",
    "The least most common rating was 0.5\n",
    "\n",
    "The count plot above shows the most viewed movie titles. The top 3 movies are:\n",
    "Forrest Gump(1994),The Shawshank Redemption(1994) and Pulp Fiction(1994)\n",
    "\n",
    "The bar plot shows the distribution of all the movie genres in the dataset. The 3 top genres are listed below starting from the most common one:Drama,Comedy and Action\n",
    "\n",
    "The bar graph above shows the top 10 most viewed movies and there average ratings. The average ratings range from 3.5 to 4.5 for the top 10 movies.\n",
    "\n",
    "From the bar chart it can be seen that all the genres have an average rating of above 3. Film Noir has the highest average rating followed by Documentary.\n",
    "\n",
    "All the genres have most of their movies rated 4.0, with relatively fewer users giving a rating of either 1 and 2 to the movies.\n",
    "\n",
    "Drama, Comedy, Action, Thriller and Adventure appear to have the highest count of ratings indicating higher user engagement.\n",
    "\n",
    "Film Noir, Western and Documentary genres seem to have the lowest count of ratings indicating low user engagement\n",
    "Grid search was performed to find optimal hyperparameters for the KNNBasic model.\n",
    "\n",
    "The best hyperparameters include 40 neighbors with cosine similarity for user-based collaborative filtering.\n",
    "\n",
    "The tuned RMSE for KNNBasic is 0.9724, which is slightly worse than the initial model from the build one which was 0.9721 \n",
    "\n",
    "Grid search for KNNBaseline is performed to fine-tune hyperparameters.\n",
    "\n",
    "The best hyperparameters include 30 neighbors with cosine similarity for user-based collaborative filtering.\n",
    "\n",
    "The tuned RMSE for KNNBaseline is 0.8779, further improving the model from the baseline build which had 0.8790\n",
    "Grid search is performed to find optimal hyperparameters for the KNNWithMeans model.\n",
    "\n",
    "The best hyperparameters include 40 neighbors with Pearson similarity for user-based collaborative filtering.\n",
    "\n",
    "The tuned RMSE for KNNWithMeans is 0.8953, showing improvement over the initial model which had 0.8995.\n",
    "\n",
    "Grid search is performed to find optimal hyperparameters for the SVD model.\n",
    "\n",
    "The best hyperparameters include 100 n-factors and a regularization term of 0.05.\n",
    "\n",
    "The RMSE for the tuned SVD is 0.8691, slightly improving the model.\n"
   ]
  },
  {
   "cell_type": "markdown",
   "metadata": {},
   "source": [
    "## Recommendations"
   ]
  },
  {
   "cell_type": "markdown",
   "metadata": {},
   "source": [
    "Filamu should consider displaying the following movies as the most popular films in the their database: Forrest Gump(1994), Hoop Dreams(1994), Pulp Fiction(1994)\n",
    "\n",
    "Filamu should consider having more movies in the following four genres: Drama, Comedy, Action and Thriller, since they are the most popular. \n",
    "\n",
    "When deployed, the developed recommendation system will assist Filamu in suggesting films that users might like. This is due to the fact that the system will display to the users films similar to those they have already watched and enjoyed, as well as films that like users have enjoyed.\n",
    "\n",
    "\n"
   ]
  },
  {
   "cell_type": "markdown",
   "metadata": {},
   "source": [
    "## Next Steps"
   ]
  },
  {
   "cell_type": "markdown",
   "metadata": {},
   "source": [
    "Continuously monitor and retrain the deployed model with new data to ensure consistent predictive quality in real-world scenarios.\n",
    "\n",
    "Enhance scalability by implementing distributed computing frameworks like Spark to handle large datasets more efficiently.\n",
    "\n",
    "Create more comprehensive user and item profiles by incorporating features such as descriptions, demographics, and historical behavior.\n",
    "\n"
   ]
  },
  {
   "cell_type": "markdown",
   "metadata": {},
   "source": []
  }
 ],
 "metadata": {
  "kernelspec": {
   "display_name": "Python 3",
   "language": "python",
   "name": "python3"
  },
  "language_info": {
   "codemirror_mode": {
    "name": "ipython",
    "version": 3
   },
   "file_extension": ".py",
   "mimetype": "text/x-python",
   "name": "python",
   "nbconvert_exporter": "python",
   "pygments_lexer": "ipython3",
   "version": "3.8.5"
  }
 },
 "nbformat": 4,
 "nbformat_minor": 5
}
